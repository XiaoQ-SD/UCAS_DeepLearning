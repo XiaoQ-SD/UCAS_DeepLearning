{
 "cells": [
  {
   "cell_type": "code",
   "execution_count": null,
   "metadata": {
    "pycharm": {
     "is_executing": true
    }
   },
   "outputs": [],
   "source": [
    "import os\n",
    "import random\n",
    "import shutil\n",
    "\n",
    "import torch\n",
    "import torch.nn.functional as F\n",
    "import torch.optim as optim\n",
    "import numpy as np\n",
    "import torchvision.transforms\n",
    "from torchvision import datasets\n",
    "from torch.utils.data import DataLoader\n",
    "\n",
    "from models.CNN import CNN"
   ]
  },
  {
   "cell_type": "code",
   "execution_count": null,
   "metadata": {
    "pycharm": {
     "name": "#%%\n"
    }
   },
   "outputs": [],
   "source": [
    "TestPath = 'data/test1'\n",
    "TrainPath = 'data/train'\n",
    "\n",
    "DatasetTrain = 'dataset/train'\n",
    "DatasetValidation = 'dataset/validation'\n",
    "\n",
    "DEVICE = torch.device('cuda' if torch.cuda.is_available() else 'cpu')\n",
    "BATCH_SIZE = 1\n",
    "EPOCHS = 5\n",
    "LEARNING_RATE = 1e-3"
   ]
  },
  {
   "cell_type": "code",
   "execution_count": null,
   "metadata": {
    "pycharm": {
     "name": "#%%\n"
    }
   },
   "outputs": [],
   "source": [
    "def moveFiles():\n",
    "    files = os.listdir(TrainPath)\n",
    "    id = 0\n",
    "    ct = 0\n",
    "    for file in files:\n",
    "        src = os.path.join(TrainPath, file)\n",
    "        num = random.random()\n",
    "        if num >= 0.8:\n",
    "            ct += 1\n",
    "            if 'cat' in str(file):\n",
    "                tar = os.path.join(DatasetValidation, 'cats', file)\n",
    "            else:\n",
    "                tar = os.path.join(DatasetValidation, 'dogs', file)\n",
    "        else:\n",
    "            if 'cat' in str(file):\n",
    "                tar = os.path.join(DatasetTrain, 'cats', file)\n",
    "            else:\n",
    "                tar = os.path.join(DatasetTrain, 'dogs', file)\n",
    "        shutil.copyfile(src, tar)\n",
    "        id += 1\n",
    "        if id % 1000 == 0:\n",
    "            print('%d files moved, %d train, %d validation' % (id, id - ct, ct))"
   ]
  },
  {
   "cell_type": "code",
   "execution_count": null,
   "metadata": {
    "pycharm": {
     "is_executing": true,
     "name": "#%%\n"
    }
   },
   "outputs": [],
   "source": [
    "def checkFiles():\n",
    "    print(len(os.listdir(os.path.join(DatasetTrain, 'cats'))))\n",
    "    print(len(os.listdir(os.path.join(DatasetTrain, 'dogs'))))\n",
    "    print(len(os.listdir(os.path.join(DatasetValidation, 'cats'))))\n",
    "    print(len(os.listdir(os.path.join(DatasetValidation, 'dogs'))))"
   ]
  },
  {
   "cell_type": "code",
   "execution_count": null,
   "metadata": {
    "pycharm": {
     "is_executing": true
    }
   },
   "outputs": [],
   "source": [
    "transforms = torchvision.transforms.Compose([\n",
    "    torchvision.transforms.Resize(364),\n",
    "    torchvision.transforms.CenterCrop(364),\n",
    "    torchvision.transforms.RandomHorizontalFlip(p=0.5),\n",
    "    torchvision.transforms.ToTensor(),\n",
    "    torchvision.transforms.Normalize((0.5, 0.5, 0.5), (0.5, 0.5, 0.5))\n",
    "])\n",
    "train_dataset = datasets.ImageFolder(root=DatasetTrain, transform=transforms)\n",
    "test_dataset = datasets.ImageFolder(root=DatasetValidation, transform=transforms)\n",
    "\n",
    "train_loader = DataLoader(dataset=train_dataset, batch_size=BATCH_SIZE, shuffle=True)\n",
    "test_loader = DataLoader(dataset=test_dataset, batch_size=BATCH_SIZE, shuffle=True)\n",
    "\n",
    "print(\"Loading Data Finished\")"
   ]
  },
  {
   "cell_type": "code",
   "execution_count": null,
   "metadata": {
    "pycharm": {
     "name": "#%%\n"
    }
   },
   "outputs": [],
   "source": [
    "model = CNN().to(DEVICE)\n",
    "optimizer = optim.Adam(model.parameters())"
   ]
  },
  {
   "cell_type": "code",
   "execution_count": null,
   "metadata": {
    "pycharm": {
     "is_executing": true,
     "name": "#%%\n"
    }
   },
   "outputs": [],
   "source": [
    "def train(model, device, train_loader, optimizer, epoch):\n",
    "    model.train()\n",
    "    for batch_index, (data, target) in enumerate(train_loader):\n",
    "        data, target = data.to(device), target.to(device)\n",
    "        optimizer.zero_grad()\n",
    "        output = model(data)\n",
    "        loss = F.cross_entropy(output, target)\n",
    "        pred = output.softmax(dim=1)\n",
    "        loss.backward()\n",
    "        optimizer.step()\n",
    "        if batch_index % 100 == 0:\n",
    "             print(\"train epoch %d, batch %d, loss %.6f\" % (epoch, batch_index, loss.item()))"
   ]
  },
  {
   "cell_type": "code",
   "execution_count": null,
   "metadata": {
    "pycharm": {
     "name": "#%%\n"
    }
   },
   "outputs": [],
   "source": [
    "def evaluate(model, device, test_loader):\n",
    "    model.eval()\n",
    "    correct = 0.0\n",
    "    test_loss = 0.0\n",
    "    with torch.no_grad():\n",
    "        for data, target in test_loader:\n",
    "            data, target = data.to(device), target.to(device)\n",
    "            output = model(data)\n",
    "            test_loss += F.cross_entropy(output, target).item()\n",
    "            pred = output.argmax(dim=1)\n",
    "            correct += pred.eq(target.view_as(pred)).sum().item()\n",
    "        test_loss /= len(test_loader.dataset)\n",
    "        print(\"test average loss %.4f, accuracy %.4f\" % (test_loss, 100.0 * correct / len(test_loader.dataset)))"
   ]
  },
  {
   "cell_type": "code",
   "execution_count": null,
   "metadata": {
    "pycharm": {
     "name": "#%%\n"
    }
   },
   "outputs": [],
   "source": [
    "for epoch in range(0, EPOCHS):\n",
    "    train(model, DEVICE, train_loader, optimizer, epoch)\n",
    "    evaluate(model, DEVICE, test_loader)"
   ]
  }
 ],
 "metadata": {
  "kernelspec": {
   "display_name": "Python 3 (ipykernel)",
   "language": "python",
   "name": "python3"
  },
  "language_info": {
   "codemirror_mode": {
    "name": "ipython",
    "version": 3
   },
   "file_extension": ".py",
   "mimetype": "text/x-python",
   "name": "python",
   "nbconvert_exporter": "python",
   "pygments_lexer": "ipython3",
   "version": "3.8.6"
  }
 },
 "nbformat": 4,
 "nbformat_minor": 1
}