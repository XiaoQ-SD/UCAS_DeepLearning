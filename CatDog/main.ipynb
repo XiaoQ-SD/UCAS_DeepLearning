{
 "cells": [
  {
   "cell_type": "code",
   "execution_count": 1,
   "metadata": {},
   "outputs": [],
   "source": [
    "import os\n",
    "import random\n",
    "import shutil"
   ]
  },
  {
   "cell_type": "code",
   "execution_count": 2,
   "metadata": {
    "pycharm": {
     "name": "#%%\n"
    }
   },
   "outputs": [],
   "source": [
    "TestPath = 'data/test1'\n",
    "TrainPath = 'data/train'\n",
    "\n",
    "DatasetTrain = 'dataset/train'\n",
    "DatasetValidation = 'dataset/validation'"
   ]
  },
  {
   "cell_type": "code",
   "execution_count": 3,
   "metadata": {
    "pycharm": {
     "name": "#%%\n"
    }
   },
   "outputs": [],
   "source": [
    "def moveFiles():\n",
    "    files = os.listdir(TrainPath)\n",
    "    id = 0\n",
    "    ct = 0\n",
    "    for file in files:\n",
    "        src = os.path.join(TrainPath, file)\n",
    "        num = random.random()\n",
    "        if num >= 0.8:\n",
    "            ct += 1\n",
    "            if 'cat' in str(file):\n",
    "                tar = os.path.join(DatasetValidation, 'cats', file)\n",
    "            else:\n",
    "                tar = os.path.join(DatasetValidation, 'dogs', file)\n",
    "        else:\n",
    "            if 'cat' in str(file):\n",
    "                tar = os.path.join(DatasetTrain, 'cats', file)\n",
    "            else:\n",
    "                tar = os.path.join(DatasetTrain, 'dogs', file)\n",
    "        shutil.copyfile(src, tar)\n",
    "        id += 1\n",
    "        if id % 1000 == 0:\n",
    "            print('%d files moved, %d train, %d validation' % (id, id - ct, ct))"
   ]
  },
  {
   "cell_type": "code",
   "execution_count": 4,
   "metadata": {
    "pycharm": {
     "is_executing": true,
     "name": "#%%\n"
    }
   },
   "outputs": [],
   "source": [
    "def checkFiles():\n",
    "    print(len(os.listdir(os.path.join(DatasetTrain, 'cats'))))\n",
    "    print(len(os.listdir(os.path.join(DatasetTrain, 'dogs'))))\n",
    "    print(len(os.listdir(os.path.join(DatasetValidation, 'cats'))))\n",
    "    print(len(os.listdir(os.path.join(DatasetValidation, 'dogs'))))"
   ]
  },
  {
   "cell_type": "code",
   "execution_count": 5,
   "metadata": {},
   "outputs": [
    {
     "name": "stdout",
     "output_type": "stream",
     "text": [
      "10007\n",
      "9993\n",
      "2493\n",
      "2507\n"
     ]
    }
   ],
   "source": [
    "checkFiles()"
   ]
  }
 ],
 "metadata": {
  "kernelspec": {
   "display_name": "Python 3 (ipykernel)",
   "language": "python",
   "name": "python3"
  },
  "language_info": {
   "codemirror_mode": {
    "name": "ipython",
    "version": 3
   },
   "file_extension": ".py",
   "mimetype": "text/x-python",
   "name": "python",
   "nbconvert_exporter": "python",
   "pygments_lexer": "ipython3",
   "version": "3.8.6"
  }
 },
 "nbformat": 4,
 "nbformat_minor": 1
}